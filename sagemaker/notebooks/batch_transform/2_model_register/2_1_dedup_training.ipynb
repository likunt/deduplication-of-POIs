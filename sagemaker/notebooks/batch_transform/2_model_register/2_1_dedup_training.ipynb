{
 "cells": [
  {
   "cell_type": "markdown",
   "id": "c667fe87-7180-4aff-a14e-d1b9987635fb",
   "metadata": {},
   "source": [
    "# Sklearn Model Training "
   ]
  },
  {
   "cell_type": "code",
   "execution_count": 1,
   "id": "d59d808e-a58c-4156-9b22-07328d75fbd3",
   "metadata": {
    "tags": []
   },
   "outputs": [
    {
     "name": "stdout",
     "output_type": "stream",
     "text": [
      "sagemaker.config INFO - Not applying SDK defaults from location: /etc/xdg/sagemaker/config.yaml\n",
      "sagemaker.config INFO - Not applying SDK defaults from location: /root/.config/sagemaker/config.yaml\n",
      "sagemaker.config INFO - Not applying SDK defaults from location: /etc/xdg/sagemaker/config.yaml\n",
      "sagemaker.config INFO - Not applying SDK defaults from location: /root/.config/sagemaker/config.yaml\n",
      "sagemaker.config INFO - Not applying SDK defaults from location: /etc/xdg/sagemaker/config.yaml\n",
      "sagemaker.config INFO - Not applying SDK defaults from location: /root/.config/sagemaker/config.yaml\n"
     ]
    }
   ],
   "source": [
    "import boto3\n",
    "import numpy as np\n",
    "import pandas as pd\n",
    "import os\n",
    "import sagemaker\n",
    "from sagemaker import get_execution_role\n",
    "from sagemaker.workflow.pipeline_context import PipelineSession\n",
    "import time\n",
    "\n",
    "boto3_session = boto3.Session()\n",
    "# profile_name = \"default\"\n",
    "# boto3_session = boto3.Session(profile_name=profile_name)\n",
    "\n",
    "sagemaker_session = PipelineSession(boto_session=boto3_session)\n",
    "region = sagemaker_session.boto_region_name\n",
    "role = get_execution_role()"
   ]
  },
  {
   "cell_type": "code",
   "execution_count": 2,
   "id": "f4678f3b-7043-4612-b256-469ed9f89d0a",
   "metadata": {
    "tags": []
   },
   "outputs": [],
   "source": [
    "# S3 prefix\n",
    "model_name = \"dedup\" \n",
    "pipeline_name = \"DedupTrainingPipeline\"\n",
    "model_package_group_name = f\"dedup-model-package-group-gradient\"\n",
    "\n",
    "bucket = \"mobi.source.data.batch.dev\"\n",
    "prefix = \"dedup-findmatches\"\n",
    "\n",
    "FRAMEWORK_VERSION = \"1.2-1\"\n",
    "script_path = \"train.py\"\n",
    "\n",
    "train_input = f's3://{bucket}/{prefix}/sagemaker/input_data/train.csv'"
   ]
  },
  {
   "cell_type": "markdown",
   "id": "699cb692-a4e7-4ede-b791-a7cf72f4cca9",
   "metadata": {},
   "source": [
    "## Create Model\n",
    "\n",
    "Use the SKLearn estimator from SageMaker SDK to run training script"
   ]
  },
  {
   "cell_type": "code",
   "execution_count": 3,
   "id": "78c65002-6676-4523-a80f-fdb92a95725f",
   "metadata": {
    "tags": []
   },
   "outputs": [
    {
     "name": "stderr",
     "output_type": "stream",
     "text": [
      "/opt/conda/lib/python3.8/site-packages/sagemaker/workflow/steps.py:485: UserWarning: Profiling is enabled on the provided estimator. The default profiler rule includes a timestamp which will change each time the pipeline is upserted, causing cache misses. If profiling is not needed, set disable_profiler to True on the estimator.\n",
      "  warnings.warn(msg)\n"
     ]
    }
   ],
   "source": [
    "from sagemaker.sklearn.estimator import SKLearn\n",
    "from sagemaker.workflow.steps import TrainingStep\n",
    "from sagemaker.workflow.steps import CacheConfig\n",
    "\n",
    "cache_config = CacheConfig(enable_caching=True, expire_after=\"PT24H\")\n",
    "\n",
    "# Define the SKLearn estimator\n",
    "estimator = SKLearn(\n",
    "    entry_point=script_path,\n",
    "    framework_version=FRAMEWORK_VERSION,\n",
    "    instance_type=\"ml.c4.xlarge\",\n",
    "    role=role,\n",
    "    sagemaker_session=sagemaker_session,\n",
    "  #  hyperparameters={\"max_leaf_nodes\": 30},\n",
    ")\n",
    "\n",
    "# Create the training step\n",
    "step_train = TrainingStep(\n",
    "    cache_config=cache_config,\n",
    "    name=f\"{model_name}_train\",\n",
    "    estimator=estimator,\n",
    "    inputs={\"train\": train_input},\n",
    ")"
   ]
  },
  {
   "cell_type": "code",
   "execution_count": 4,
   "id": "68b6fcb4-c44a-4734-aa0d-11041d3d6504",
   "metadata": {
    "tags": []
   },
   "outputs": [],
   "source": [
    "!rm -rf inference_code/inference.tar.gz\n",
    "!(cd inference_code/ && tar -czf inference.tar.gz *)"
   ]
  },
  {
   "cell_type": "code",
   "execution_count": 6,
   "id": "5372df91-37d7-4516-a5f3-d0e556d29416",
   "metadata": {
    "tags": []
   },
   "outputs": [],
   "source": [
    "entry_point_dedup_model = \"inference.py\"\n",
    "\n",
    "inference_tar = sagemaker.s3.S3Uploader.upload(\n",
    "    local_path=\"inference_code/inference.tar.gz\",\n",
    "    desired_s3_uri=f's3://{bucket}/{prefix}/sagemaker/input_data',\n",
    "    sagemaker_session=sagemaker_session,\n",
    ")"
   ]
  },
  {
   "cell_type": "code",
   "execution_count": 7,
   "id": "af794988-9ab3-4404-a96c-7456e147c64d",
   "metadata": {
    "tags": []
   },
   "outputs": [
    {
     "name": "stdout",
     "output_type": "stream",
     "text": [
      "tar uploaded to s3://mobi.source.data.batch.dev/dedup-findmatches/sagemaker/input_data/inference.tar.gz\n"
     ]
    }
   ],
   "source": [
    "print(f\"tar uploaded to {inference_tar}\")"
   ]
  },
  {
   "cell_type": "code",
   "execution_count": 8,
   "id": "4aeb5224-019d-422e-98f6-9debe3b44818",
   "metadata": {},
   "outputs": [],
   "source": [
    "from sagemaker.sklearn.model import SKLearnModel\n",
    "from sagemaker.workflow.model_step import ModelStep\n",
    "\n",
    "sagemaker_bucket = \"sagemaker-us-east-1-769026081114\"\n",
    "model_bucket = \"sagemaker-scikit-learn-2024-01-03-20-35-22-490\"\n",
    "model_s3_path = f\"s3://{sagemaker_bucket}/{model_bucket}/output/model.tar.gz\"\n",
    "\n",
    "model = SKLearnModel(model_data=step_train.properties.ModelArtifacts.S3ModelArtifacts,\n",
    "                     role=role,\n",
    "                     entry_point=\"inference.py\",\n",
    "                     sagemaker_session=sagemaker_session,\n",
    "                     source_dir=inference_tar,\n",
    "                     framework_version=FRAMEWORK_VERSION,\n",
    "                     py_version=\"py3\",)"
   ]
  },
  {
   "cell_type": "code",
   "execution_count": 9,
   "id": "9f723550-b2fb-4360-84c7-f399fd1295ce",
   "metadata": {
    "tags": []
   },
   "outputs": [],
   "source": [
    "# client = boto3.client(\"sagemaker\")\n",
    "\n",
    "# model_package_group_input_dict = {\n",
    "#     \"ModelPackageGroupName\": model_package_group_name,\n",
    "#     \"ModelPackageGroupDescription\": \"Dedup sklearn model package group\",\n",
    "# }\n",
    "\n",
    "# create_model_pacakge_group_response = client.create_model_package_group(\n",
    "#     **model_package_group_input_dict\n",
    "# )\n",
    "# model_package_arn = create_model_pacakge_group_response[\"ModelPackageGroupArn\"]\n",
    "# print(f\"ModelPackageGroup Arn : {model_package_arn}\")"
   ]
  },
  {
   "cell_type": "code",
   "execution_count": 10,
   "id": "9c2670c0-ced6-4685-bf2a-dbb33fb3c46c",
   "metadata": {
    "tags": []
   },
   "outputs": [
    {
     "name": "stderr",
     "output_type": "stream",
     "text": [
      "/opt/conda/lib/python3.8/site-packages/sagemaker/workflow/pipeline_context.py:332: UserWarning: Running within a PipelineSession, there will be No Wait, No Logs, and No Job being started.\n",
      "  warnings.warn(\n"
     ]
    }
   ],
   "source": [
    "register_model_step_args = model.register(\n",
    "    content_types=[\"text/csv\"],\n",
    "    response_types=[\"text/csv\"],\n",
    "    inference_instances=[\n",
    "        \"ml.m5.xlarge\",\n",
    "        \"ml.m5.2xlarge\",\n",
    "        \"ml.m5.4xlarge\",\n",
    "    ],\n",
    "    transform_instances=[\n",
    "        \"ml.m5.xlarge\",\n",
    "        \"ml.m5.2xlarge\",\n",
    "        \"ml.m5.4xlarge\",\n",
    "    ],\n",
    "    model_package_group_name=model_package_group_name,\n",
    "    approval_status=\"Approved\",\n",
    ")"
   ]
  },
  {
   "cell_type": "code",
   "execution_count": 11,
   "id": "2dd558c3-6e8d-4c71-ba4b-5534e801128b",
   "metadata": {
    "tags": []
   },
   "outputs": [],
   "source": [
    "register_model_step = ModelStep(\n",
    "    name=f\"{model_name}_register\", step_args=register_model_step_args\n",
    ")"
   ]
  },
  {
   "cell_type": "code",
   "execution_count": 12,
   "id": "b1bbbb61-6a0d-4cf8-a908-2398c2b973f0",
   "metadata": {},
   "outputs": [],
   "source": [
    "from sagemaker.workflow.pipeline import Pipeline\n",
    "\n",
    "pipeline = Pipeline(\n",
    "    sagemaker_session=sagemaker_session,\n",
    "    name=pipeline_name,\n",
    "    steps=[step_train, register_model_step],\n",
    ")"
   ]
  },
  {
   "cell_type": "code",
   "execution_count": 13,
   "id": "13b2f973-647d-4650-98f2-4b4ed8f7c835",
   "metadata": {
    "tags": []
   },
   "outputs": [
    {
     "name": "stderr",
     "output_type": "stream",
     "text": [
      "WARNING:sagemaker.workflow.utilities:Popping out 'TrainingJobName' from the pipeline definition by default since it will be overridden at pipeline execution time. Please utilize the PipelineDefinitionConfig to persist this field in the pipeline definition if desired.\n",
      "WARNING:sagemaker.workflow._utils:Popping out 'CertifyForMarketplace' from the pipeline definition since it will be overridden in pipeline execution time.\n",
      "WARNING:sagemaker.workflow.utilities:Popping out 'ModelPackageName' from the pipeline definition by default since it will be overridden at pipeline execution time. Please utilize the PipelineDefinitionConfig to persist this field in the pipeline definition if desired.\n"
     ]
    },
    {
     "name": "stdout",
     "output_type": "stream",
     "text": [
      "Using provided s3_resource\n"
     ]
    },
    {
     "name": "stderr",
     "output_type": "stream",
     "text": [
      "WARNING:sagemaker.workflow.utilities:Popping out 'TrainingJobName' from the pipeline definition by default since it will be overridden at pipeline execution time. Please utilize the PipelineDefinitionConfig to persist this field in the pipeline definition if desired.\n",
      "WARNING:sagemaker.workflow.utilities:Popping out 'ModelPackageName' from the pipeline definition by default since it will be overridden at pipeline execution time. Please utilize the PipelineDefinitionConfig to persist this field in the pipeline definition if desired.\n"
     ]
    },
    {
     "name": "stdout",
     "output_type": "stream",
     "text": [
      "Using provided s3_resource\n"
     ]
    },
    {
     "data": {
      "text/plain": [
       "{'PipelineArn': 'arn:aws:sagemaker:us-east-1:769026081114:pipeline/DedupTrainingPipeline',\n",
       " 'ResponseMetadata': {'RequestId': '616340a8-79f0-4540-b92c-6c3c73c9b1c4',\n",
       "  'HTTPStatusCode': 200,\n",
       "  'HTTPHeaders': {'x-amzn-requestid': '616340a8-79f0-4540-b92c-6c3c73c9b1c4',\n",
       "   'content-type': 'application/x-amz-json-1.1',\n",
       "   'content-length': '89',\n",
       "   'date': 'Sun, 28 Jan 2024 04:18:49 GMT'},\n",
       "  'RetryAttempts': 0}}"
      ]
     },
     "execution_count": 13,
     "metadata": {},
     "output_type": "execute_result"
    }
   ],
   "source": [
    "pipeline.upsert(role_arn=role)"
   ]
  },
  {
   "cell_type": "code",
   "execution_count": 14,
   "id": "1a712b52-2de3-4004-8ec7-521227a2715b",
   "metadata": {
    "tags": []
   },
   "outputs": [],
   "source": [
    "#pipeline.describe()"
   ]
  },
  {
   "cell_type": "code",
   "execution_count": 15,
   "id": "ed94a74e-84d1-4ac0-b6de-4a4d4d95f550",
   "metadata": {
    "tags": []
   },
   "outputs": [],
   "source": [
    "execution = pipeline.start()"
   ]
  },
  {
   "cell_type": "code",
   "execution_count": 16,
   "id": "eb069c9f-3138-45ba-9fea-ea303d5f8fc9",
   "metadata": {
    "tags": []
   },
   "outputs": [
    {
     "data": {
      "text/plain": [
       "{'PipelineArn': 'arn:aws:sagemaker:us-east-1:769026081114:pipeline/DedupTrainingPipeline',\n",
       " 'PipelineExecutionArn': 'arn:aws:sagemaker:us-east-1:769026081114:pipeline/DedupTrainingPipeline/execution/fcnhut4svgiu',\n",
       " 'PipelineExecutionDisplayName': 'execution-1706415530334',\n",
       " 'PipelineExecutionStatus': 'Executing',\n",
       " 'CreationTime': datetime.datetime(2024, 1, 28, 4, 18, 50, 239000, tzinfo=tzlocal()),\n",
       " 'LastModifiedTime': datetime.datetime(2024, 1, 28, 4, 18, 50, 239000, tzinfo=tzlocal()),\n",
       " 'CreatedBy': {'UserProfileArn': 'arn:aws:sagemaker:us-east-1:769026081114:user-profile/d-7ozigerxo8wq/likun',\n",
       "  'UserProfileName': 'likun',\n",
       "  'DomainId': 'd-7ozigerxo8wq'},\n",
       " 'LastModifiedBy': {'UserProfileArn': 'arn:aws:sagemaker:us-east-1:769026081114:user-profile/d-7ozigerxo8wq/likun',\n",
       "  'UserProfileName': 'likun',\n",
       "  'DomainId': 'd-7ozigerxo8wq'},\n",
       " 'ResponseMetadata': {'RequestId': '99f906e4-448a-4e05-a544-12c68c7bfb6f',\n",
       "  'HTTPStatusCode': 200,\n",
       "  'HTTPHeaders': {'x-amzn-requestid': '99f906e4-448a-4e05-a544-12c68c7bfb6f',\n",
       "   'content-type': 'application/x-amz-json-1.1',\n",
       "   'content-length': '701',\n",
       "   'date': 'Sun, 28 Jan 2024 04:18:49 GMT'},\n",
       "  'RetryAttempts': 0}}"
      ]
     },
     "execution_count": 16,
     "metadata": {},
     "output_type": "execute_result"
    }
   ],
   "source": [
    "execution.describe()"
   ]
  },
  {
   "cell_type": "code",
   "execution_count": 17,
   "id": "746dbbdd-5cf2-407d-bb7c-55ad1b85b10f",
   "metadata": {
    "tags": []
   },
   "outputs": [],
   "source": [
    "execution.wait()"
   ]
  },
  {
   "cell_type": "markdown",
   "id": "8cd81865-84b4-4641-8109-209edfd57c66",
   "metadata": {},
   "source": [
    "# check results"
   ]
  },
  {
   "cell_type": "code",
   "execution_count": 18,
   "id": "c14ba865-af50-43e7-abd3-186213bcea3c",
   "metadata": {
    "tags": []
   },
   "outputs": [],
   "source": [
    "#list_model_packages_response = client.list_model_packages(ModelPackageGroupName=model_package_group_name)\n",
    "#model_package_group_name = \"ner-food-model-package-group\"\n",
    "\n",
    "client = boto3.client(\"sagemaker\")\n",
    "model_packages = client.list_model_packages(\n",
    "                ModelPackageGroupName=model_package_group_name,\n",
    "                SortBy=\"CreationTime\",\n",
    "                SortOrder=\"Descending\",\n",
    "            )"
   ]
  },
  {
   "cell_type": "code",
   "execution_count": 19,
   "id": "1d79f8bc-886a-4daf-b6d4-c07bc7f5a1a6",
   "metadata": {},
   "outputs": [],
   "source": [
    "model_package = [\n",
    "                pk\n",
    "                for pk in model_packages[\"ModelPackageSummaryList\"]\n",
    "                if pk[\"ModelApprovalStatus\"] == \"Approved\"\n",
    "            ][0]"
   ]
  },
  {
   "cell_type": "code",
   "execution_count": 20,
   "id": "06e8484b-1952-4c36-be54-01025805c55e",
   "metadata": {
    "tags": []
   },
   "outputs": [
    {
     "data": {
      "text/plain": [
       "{'ModelPackageGroupName': 'dedup-model-package-group-gradient',\n",
       " 'ModelPackageVersion': 1,\n",
       " 'ModelPackageArn': 'arn:aws:sagemaker:us-east-1:769026081114:model-package/dedup-model-package-group-gradient/1',\n",
       " 'CreationTime': datetime.datetime(2024, 1, 28, 4, 22, 15, 607000, tzinfo=tzlocal()),\n",
       " 'ModelPackageStatus': 'Completed',\n",
       " 'ModelApprovalStatus': 'Approved'}"
      ]
     },
     "execution_count": 20,
     "metadata": {},
     "output_type": "execute_result"
    }
   ],
   "source": [
    "model_package"
   ]
  },
  {
   "cell_type": "code",
   "execution_count": 21,
   "id": "da5d1e36-b9c2-4e47-b2dd-ee920d1d8bf8",
   "metadata": {
    "tags": []
   },
   "outputs": [
    {
     "data": {
      "text/plain": [
       "'arn:aws:sagemaker:us-east-1:769026081114:model-package/dedup-model-package-group-gradient/1'"
      ]
     },
     "execution_count": 21,
     "metadata": {},
     "output_type": "execute_result"
    }
   ],
   "source": [
    "model_package_arn = model_package[\"ModelPackageArn\"]\n",
    "model_package_arn"
   ]
  },
  {
   "cell_type": "code",
   "execution_count": 23,
   "id": "09508bae-fdcf-4e41-9ec0-59a329322183",
   "metadata": {
    "tags": []
   },
   "outputs": [],
   "source": [
    "# Create the model\n",
    "model_name = \"dedup-model-name-gradient\"\n",
    "create_model_response = client.create_model(\n",
    "    ModelName=model_name,\n",
    "    ExecutionRoleArn=role,\n",
    "    PrimaryContainer={\n",
    "        'ModelPackageName': model_package_arn,\n",
    "    }\n",
    ")"
   ]
  },
  {
   "cell_type": "code",
   "execution_count": 24,
   "id": "7d28e6ca-60bf-4f0b-94e2-61d7255f832c",
   "metadata": {
    "tags": []
   },
   "outputs": [
    {
     "data": {
      "text/plain": [
       "[{'Model': {'Model': {'ModelName': 'dedup-model-package-group-gradient-2024-01-28-04-26-16-079',\n",
       "    'Containers': [{'Mode': 'SingleModel',\n",
       "      'ModelPackageName': 'arn:aws:sagemaker:us-east-1:769026081114:model-package/dedup-model-package-group-gradient/1'}],\n",
       "    'ExecutionRoleArn': 'arn:aws:iam::769026081114:role/SageMaker',\n",
       "    'CreationTime': datetime.datetime(2024, 1, 28, 4, 26, 16, tzinfo=tzlocal()),\n",
       "    'ModelArn': 'arn:aws:sagemaker:us-east-1:769026081114:model/dedup-model-package-group-gradient-2024-01-28-04-26-16-079',\n",
       "    'EnableNetworkIsolation': False},\n",
       "   'LastBatchTransformJob': {'TransformJobName': 'dedup-model-package-group-gradient-2024-01-28-04-26-16-891',\n",
       "    'TransformJobArn': 'arn:aws:sagemaker:us-east-1:769026081114:transform-job/dedup-model-package-group-gradient-2024-01-28-04-26-16-891',\n",
       "    'TransformJobStatus': 'InProgress',\n",
       "    'ModelName': 'dedup-model-package-group-gradient-2024-01-28-04-26-16-079',\n",
       "    'MaxConcurrentTransforms': 4,\n",
       "    'MaxPayloadInMB': 20,\n",
       "    'TransformInput': {'DataSource': {'S3DataSource': {'S3DataType': 'S3Prefix',\n",
       "       'S3Uri': 's3://mobi.source.data.batch.dev/dedup/addfeatures/lodging/version_1705942221'}},\n",
       "     'ContentType': 'text/csv',\n",
       "     'CompressionType': 'None',\n",
       "     'SplitType': 'Line'},\n",
       "    'TransformOutput': {'S3OutputPath': 's3://mobi.source.data.batch.dev/dedup/inference/lodging/version_1705942221',\n",
       "     'Accept': 'text/csv',\n",
       "     'AssembleWith': 'Line',\n",
       "     'KmsKeyId': ''},\n",
       "    'TransformResources': {'InstanceType': 'ml.m5.xlarge', 'InstanceCount': 4},\n",
       "    'CreationTime': datetime.datetime(2024, 1, 28, 4, 26, 16, tzinfo=tzlocal()),\n",
       "    'DataProcessing': {'InputFilter': '$',\n",
       "     'OutputFilter': '$',\n",
       "     'JoinSource': 'Input'}}}}]"
      ]
     },
     "execution_count": 24,
     "metadata": {},
     "output_type": "execute_result"
    }
   ],
   "source": [
    "models = client.search(\n",
    "                Resource=\"Model\",\n",
    "                SearchExpression={\n",
    "                    \"Filters\": [\n",
    "                        {\n",
    "                            \"Name\": \"Model.Containers.ModelPackageName\",\n",
    "                            \"Operator\": \"Equals\",\n",
    "                            \"Value\": model_package_arn,\n",
    "                        },\n",
    "                    ]\n",
    "                },\n",
    "            )[\"Results\"]\n",
    "\n",
    "models"
   ]
  },
  {
   "cell_type": "code",
   "execution_count": null,
   "id": "90e23414-f81b-4ba9-9554-2e3f43f7f8ac",
   "metadata": {},
   "outputs": [],
   "source": []
  }
 ],
 "metadata": {
  "availableInstances": [
   {
    "_defaultOrder": 0,
    "_isFastLaunch": true,
    "category": "General purpose",
    "gpuNum": 0,
    "hideHardwareSpecs": false,
    "memoryGiB": 4,
    "name": "ml.t3.medium",
    "vcpuNum": 2
   },
   {
    "_defaultOrder": 1,
    "_isFastLaunch": false,
    "category": "General purpose",
    "gpuNum": 0,
    "hideHardwareSpecs": false,
    "memoryGiB": 8,
    "name": "ml.t3.large",
    "vcpuNum": 2
   },
   {
    "_defaultOrder": 2,
    "_isFastLaunch": false,
    "category": "General purpose",
    "gpuNum": 0,
    "hideHardwareSpecs": false,
    "memoryGiB": 16,
    "name": "ml.t3.xlarge",
    "vcpuNum": 4
   },
   {
    "_defaultOrder": 3,
    "_isFastLaunch": false,
    "category": "General purpose",
    "gpuNum": 0,
    "hideHardwareSpecs": false,
    "memoryGiB": 32,
    "name": "ml.t3.2xlarge",
    "vcpuNum": 8
   },
   {
    "_defaultOrder": 4,
    "_isFastLaunch": true,
    "category": "General purpose",
    "gpuNum": 0,
    "hideHardwareSpecs": false,
    "memoryGiB": 8,
    "name": "ml.m5.large",
    "vcpuNum": 2
   },
   {
    "_defaultOrder": 5,
    "_isFastLaunch": false,
    "category": "General purpose",
    "gpuNum": 0,
    "hideHardwareSpecs": false,
    "memoryGiB": 16,
    "name": "ml.m5.xlarge",
    "vcpuNum": 4
   },
   {
    "_defaultOrder": 6,
    "_isFastLaunch": false,
    "category": "General purpose",
    "gpuNum": 0,
    "hideHardwareSpecs": false,
    "memoryGiB": 32,
    "name": "ml.m5.2xlarge",
    "vcpuNum": 8
   },
   {
    "_defaultOrder": 7,
    "_isFastLaunch": false,
    "category": "General purpose",
    "gpuNum": 0,
    "hideHardwareSpecs": false,
    "memoryGiB": 64,
    "name": "ml.m5.4xlarge",
    "vcpuNum": 16
   },
   {
    "_defaultOrder": 8,
    "_isFastLaunch": false,
    "category": "General purpose",
    "gpuNum": 0,
    "hideHardwareSpecs": false,
    "memoryGiB": 128,
    "name": "ml.m5.8xlarge",
    "vcpuNum": 32
   },
   {
    "_defaultOrder": 9,
    "_isFastLaunch": false,
    "category": "General purpose",
    "gpuNum": 0,
    "hideHardwareSpecs": false,
    "memoryGiB": 192,
    "name": "ml.m5.12xlarge",
    "vcpuNum": 48
   },
   {
    "_defaultOrder": 10,
    "_isFastLaunch": false,
    "category": "General purpose",
    "gpuNum": 0,
    "hideHardwareSpecs": false,
    "memoryGiB": 256,
    "name": "ml.m5.16xlarge",
    "vcpuNum": 64
   },
   {
    "_defaultOrder": 11,
    "_isFastLaunch": false,
    "category": "General purpose",
    "gpuNum": 0,
    "hideHardwareSpecs": false,
    "memoryGiB": 384,
    "name": "ml.m5.24xlarge",
    "vcpuNum": 96
   },
   {
    "_defaultOrder": 12,
    "_isFastLaunch": false,
    "category": "General purpose",
    "gpuNum": 0,
    "hideHardwareSpecs": false,
    "memoryGiB": 8,
    "name": "ml.m5d.large",
    "vcpuNum": 2
   },
   {
    "_defaultOrder": 13,
    "_isFastLaunch": false,
    "category": "General purpose",
    "gpuNum": 0,
    "hideHardwareSpecs": false,
    "memoryGiB": 16,
    "name": "ml.m5d.xlarge",
    "vcpuNum": 4
   },
   {
    "_defaultOrder": 14,
    "_isFastLaunch": false,
    "category": "General purpose",
    "gpuNum": 0,
    "hideHardwareSpecs": false,
    "memoryGiB": 32,
    "name": "ml.m5d.2xlarge",
    "vcpuNum": 8
   },
   {
    "_defaultOrder": 15,
    "_isFastLaunch": false,
    "category": "General purpose",
    "gpuNum": 0,
    "hideHardwareSpecs": false,
    "memoryGiB": 64,
    "name": "ml.m5d.4xlarge",
    "vcpuNum": 16
   },
   {
    "_defaultOrder": 16,
    "_isFastLaunch": false,
    "category": "General purpose",
    "gpuNum": 0,
    "hideHardwareSpecs": false,
    "memoryGiB": 128,
    "name": "ml.m5d.8xlarge",
    "vcpuNum": 32
   },
   {
    "_defaultOrder": 17,
    "_isFastLaunch": false,
    "category": "General purpose",
    "gpuNum": 0,
    "hideHardwareSpecs": false,
    "memoryGiB": 192,
    "name": "ml.m5d.12xlarge",
    "vcpuNum": 48
   },
   {
    "_defaultOrder": 18,
    "_isFastLaunch": false,
    "category": "General purpose",
    "gpuNum": 0,
    "hideHardwareSpecs": false,
    "memoryGiB": 256,
    "name": "ml.m5d.16xlarge",
    "vcpuNum": 64
   },
   {
    "_defaultOrder": 19,
    "_isFastLaunch": false,
    "category": "General purpose",
    "gpuNum": 0,
    "hideHardwareSpecs": false,
    "memoryGiB": 384,
    "name": "ml.m5d.24xlarge",
    "vcpuNum": 96
   },
   {
    "_defaultOrder": 20,
    "_isFastLaunch": false,
    "category": "General purpose",
    "gpuNum": 0,
    "hideHardwareSpecs": true,
    "memoryGiB": 0,
    "name": "ml.geospatial.interactive",
    "supportedImageNames": [
     "sagemaker-geospatial-v1-0"
    ],
    "vcpuNum": 0
   },
   {
    "_defaultOrder": 21,
    "_isFastLaunch": true,
    "category": "Compute optimized",
    "gpuNum": 0,
    "hideHardwareSpecs": false,
    "memoryGiB": 4,
    "name": "ml.c5.large",
    "vcpuNum": 2
   },
   {
    "_defaultOrder": 22,
    "_isFastLaunch": false,
    "category": "Compute optimized",
    "gpuNum": 0,
    "hideHardwareSpecs": false,
    "memoryGiB": 8,
    "name": "ml.c5.xlarge",
    "vcpuNum": 4
   },
   {
    "_defaultOrder": 23,
    "_isFastLaunch": false,
    "category": "Compute optimized",
    "gpuNum": 0,
    "hideHardwareSpecs": false,
    "memoryGiB": 16,
    "name": "ml.c5.2xlarge",
    "vcpuNum": 8
   },
   {
    "_defaultOrder": 24,
    "_isFastLaunch": false,
    "category": "Compute optimized",
    "gpuNum": 0,
    "hideHardwareSpecs": false,
    "memoryGiB": 32,
    "name": "ml.c5.4xlarge",
    "vcpuNum": 16
   },
   {
    "_defaultOrder": 25,
    "_isFastLaunch": false,
    "category": "Compute optimized",
    "gpuNum": 0,
    "hideHardwareSpecs": false,
    "memoryGiB": 72,
    "name": "ml.c5.9xlarge",
    "vcpuNum": 36
   },
   {
    "_defaultOrder": 26,
    "_isFastLaunch": false,
    "category": "Compute optimized",
    "gpuNum": 0,
    "hideHardwareSpecs": false,
    "memoryGiB": 96,
    "name": "ml.c5.12xlarge",
    "vcpuNum": 48
   },
   {
    "_defaultOrder": 27,
    "_isFastLaunch": false,
    "category": "Compute optimized",
    "gpuNum": 0,
    "hideHardwareSpecs": false,
    "memoryGiB": 144,
    "name": "ml.c5.18xlarge",
    "vcpuNum": 72
   },
   {
    "_defaultOrder": 28,
    "_isFastLaunch": false,
    "category": "Compute optimized",
    "gpuNum": 0,
    "hideHardwareSpecs": false,
    "memoryGiB": 192,
    "name": "ml.c5.24xlarge",
    "vcpuNum": 96
   },
   {
    "_defaultOrder": 29,
    "_isFastLaunch": true,
    "category": "Accelerated computing",
    "gpuNum": 1,
    "hideHardwareSpecs": false,
    "memoryGiB": 16,
    "name": "ml.g4dn.xlarge",
    "vcpuNum": 4
   },
   {
    "_defaultOrder": 30,
    "_isFastLaunch": false,
    "category": "Accelerated computing",
    "gpuNum": 1,
    "hideHardwareSpecs": false,
    "memoryGiB": 32,
    "name": "ml.g4dn.2xlarge",
    "vcpuNum": 8
   },
   {
    "_defaultOrder": 31,
    "_isFastLaunch": false,
    "category": "Accelerated computing",
    "gpuNum": 1,
    "hideHardwareSpecs": false,
    "memoryGiB": 64,
    "name": "ml.g4dn.4xlarge",
    "vcpuNum": 16
   },
   {
    "_defaultOrder": 32,
    "_isFastLaunch": false,
    "category": "Accelerated computing",
    "gpuNum": 1,
    "hideHardwareSpecs": false,
    "memoryGiB": 128,
    "name": "ml.g4dn.8xlarge",
    "vcpuNum": 32
   },
   {
    "_defaultOrder": 33,
    "_isFastLaunch": false,
    "category": "Accelerated computing",
    "gpuNum": 4,
    "hideHardwareSpecs": false,
    "memoryGiB": 192,
    "name": "ml.g4dn.12xlarge",
    "vcpuNum": 48
   },
   {
    "_defaultOrder": 34,
    "_isFastLaunch": false,
    "category": "Accelerated computing",
    "gpuNum": 1,
    "hideHardwareSpecs": false,
    "memoryGiB": 256,
    "name": "ml.g4dn.16xlarge",
    "vcpuNum": 64
   },
   {
    "_defaultOrder": 35,
    "_isFastLaunch": false,
    "category": "Accelerated computing",
    "gpuNum": 1,
    "hideHardwareSpecs": false,
    "memoryGiB": 61,
    "name": "ml.p3.2xlarge",
    "vcpuNum": 8
   },
   {
    "_defaultOrder": 36,
    "_isFastLaunch": false,
    "category": "Accelerated computing",
    "gpuNum": 4,
    "hideHardwareSpecs": false,
    "memoryGiB": 244,
    "name": "ml.p3.8xlarge",
    "vcpuNum": 32
   },
   {
    "_defaultOrder": 37,
    "_isFastLaunch": false,
    "category": "Accelerated computing",
    "gpuNum": 8,
    "hideHardwareSpecs": false,
    "memoryGiB": 488,
    "name": "ml.p3.16xlarge",
    "vcpuNum": 64
   },
   {
    "_defaultOrder": 38,
    "_isFastLaunch": false,
    "category": "Accelerated computing",
    "gpuNum": 8,
    "hideHardwareSpecs": false,
    "memoryGiB": 768,
    "name": "ml.p3dn.24xlarge",
    "vcpuNum": 96
   },
   {
    "_defaultOrder": 39,
    "_isFastLaunch": false,
    "category": "Memory Optimized",
    "gpuNum": 0,
    "hideHardwareSpecs": false,
    "memoryGiB": 16,
    "name": "ml.r5.large",
    "vcpuNum": 2
   },
   {
    "_defaultOrder": 40,
    "_isFastLaunch": false,
    "category": "Memory Optimized",
    "gpuNum": 0,
    "hideHardwareSpecs": false,
    "memoryGiB": 32,
    "name": "ml.r5.xlarge",
    "vcpuNum": 4
   },
   {
    "_defaultOrder": 41,
    "_isFastLaunch": false,
    "category": "Memory Optimized",
    "gpuNum": 0,
    "hideHardwareSpecs": false,
    "memoryGiB": 64,
    "name": "ml.r5.2xlarge",
    "vcpuNum": 8
   },
   {
    "_defaultOrder": 42,
    "_isFastLaunch": false,
    "category": "Memory Optimized",
    "gpuNum": 0,
    "hideHardwareSpecs": false,
    "memoryGiB": 128,
    "name": "ml.r5.4xlarge",
    "vcpuNum": 16
   },
   {
    "_defaultOrder": 43,
    "_isFastLaunch": false,
    "category": "Memory Optimized",
    "gpuNum": 0,
    "hideHardwareSpecs": false,
    "memoryGiB": 256,
    "name": "ml.r5.8xlarge",
    "vcpuNum": 32
   },
   {
    "_defaultOrder": 44,
    "_isFastLaunch": false,
    "category": "Memory Optimized",
    "gpuNum": 0,
    "hideHardwareSpecs": false,
    "memoryGiB": 384,
    "name": "ml.r5.12xlarge",
    "vcpuNum": 48
   },
   {
    "_defaultOrder": 45,
    "_isFastLaunch": false,
    "category": "Memory Optimized",
    "gpuNum": 0,
    "hideHardwareSpecs": false,
    "memoryGiB": 512,
    "name": "ml.r5.16xlarge",
    "vcpuNum": 64
   },
   {
    "_defaultOrder": 46,
    "_isFastLaunch": false,
    "category": "Memory Optimized",
    "gpuNum": 0,
    "hideHardwareSpecs": false,
    "memoryGiB": 768,
    "name": "ml.r5.24xlarge",
    "vcpuNum": 96
   },
   {
    "_defaultOrder": 47,
    "_isFastLaunch": false,
    "category": "Accelerated computing",
    "gpuNum": 1,
    "hideHardwareSpecs": false,
    "memoryGiB": 16,
    "name": "ml.g5.xlarge",
    "vcpuNum": 4
   },
   {
    "_defaultOrder": 48,
    "_isFastLaunch": false,
    "category": "Accelerated computing",
    "gpuNum": 1,
    "hideHardwareSpecs": false,
    "memoryGiB": 32,
    "name": "ml.g5.2xlarge",
    "vcpuNum": 8
   },
   {
    "_defaultOrder": 49,
    "_isFastLaunch": false,
    "category": "Accelerated computing",
    "gpuNum": 1,
    "hideHardwareSpecs": false,
    "memoryGiB": 64,
    "name": "ml.g5.4xlarge",
    "vcpuNum": 16
   },
   {
    "_defaultOrder": 50,
    "_isFastLaunch": false,
    "category": "Accelerated computing",
    "gpuNum": 1,
    "hideHardwareSpecs": false,
    "memoryGiB": 128,
    "name": "ml.g5.8xlarge",
    "vcpuNum": 32
   },
   {
    "_defaultOrder": 51,
    "_isFastLaunch": false,
    "category": "Accelerated computing",
    "gpuNum": 1,
    "hideHardwareSpecs": false,
    "memoryGiB": 256,
    "name": "ml.g5.16xlarge",
    "vcpuNum": 64
   },
   {
    "_defaultOrder": 52,
    "_isFastLaunch": false,
    "category": "Accelerated computing",
    "gpuNum": 4,
    "hideHardwareSpecs": false,
    "memoryGiB": 192,
    "name": "ml.g5.12xlarge",
    "vcpuNum": 48
   },
   {
    "_defaultOrder": 53,
    "_isFastLaunch": false,
    "category": "Accelerated computing",
    "gpuNum": 4,
    "hideHardwareSpecs": false,
    "memoryGiB": 384,
    "name": "ml.g5.24xlarge",
    "vcpuNum": 96
   },
   {
    "_defaultOrder": 54,
    "_isFastLaunch": false,
    "category": "Accelerated computing",
    "gpuNum": 8,
    "hideHardwareSpecs": false,
    "memoryGiB": 768,
    "name": "ml.g5.48xlarge",
    "vcpuNum": 192
   },
   {
    "_defaultOrder": 55,
    "_isFastLaunch": false,
    "category": "Accelerated computing",
    "gpuNum": 8,
    "hideHardwareSpecs": false,
    "memoryGiB": 1152,
    "name": "ml.p4d.24xlarge",
    "vcpuNum": 96
   },
   {
    "_defaultOrder": 56,
    "_isFastLaunch": false,
    "category": "Accelerated computing",
    "gpuNum": 8,
    "hideHardwareSpecs": false,
    "memoryGiB": 1152,
    "name": "ml.p4de.24xlarge",
    "vcpuNum": 96
   }
  ],
  "instance_type": "ml.t3.medium",
  "kernelspec": {
   "display_name": "Python 3 (Data Science 2.0)",
   "language": "python",
   "name": "python3__SAGEMAKER_INTERNAL__arn:aws:sagemaker:us-east-1:081325390199:image/sagemaker-data-science-38"
  },
  "language_info": {
   "codemirror_mode": {
    "name": "ipython",
    "version": 3
   },
   "file_extension": ".py",
   "mimetype": "text/x-python",
   "name": "python",
   "nbconvert_exporter": "python",
   "pygments_lexer": "ipython3",
   "version": "3.8.13"
  }
 },
 "nbformat": 4,
 "nbformat_minor": 5
}
